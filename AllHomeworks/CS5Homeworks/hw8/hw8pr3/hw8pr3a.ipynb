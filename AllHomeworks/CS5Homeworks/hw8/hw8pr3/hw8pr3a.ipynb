{
 "cells": [
  {
   "cell_type": "markdown",
   "metadata": {},
   "source": [
    "+ hw8pr3a.ipynb + hw8pr3 instructions\n",
    "+ <span style=\"color:red\">**_use LLM is NOT allowed on part 3a of this assignment_** </span>\n",
    "+ <span style=\"color:red\">Typing your name here means you've read and acknowledged the statement above </span>\n",
    "+ Name:\n",
    "\n",
    "# <span style=\"color:violet\"> Problem 3a: Pi from Pie </span>\n",
    "[30 points; individual or pair]\n",
    "+ It is perhaps surprising that it is possible to estimate the mathematical constant 𝝅 without resorting to any techniques or operations more sophisticated than counting, adding, and multiplication. This problem asks you to write two functions that estimate pi (3.14159...) by *dart-throwing*\n",
    "\n",
    "\n",
    "### <span style=\"color:violet\">Computing Pi from Pie: Background </span>\n",
    "Imagine a circle inscribed within a square that spans the area where -1 ≤ x ≤ 1 and -1 ≤ y ≤ 1. The area of the inscribed circle, whose radius is 1.0 would be 𝝅.\n",
    "\n",
    "+ If you were to throw darts at random locations in the square, only some of them would hit the circle inscribed within it. The ratio: \n",
    "    + area of the circle / area of the square\n",
    "+ can be estimated by the ratio\n",
    "    + number of darts that hit the circle / total number of darts thrown\n",
    "+ As the number of darts increases, the second ratio, above, gets closer and closer to the first ratio. Since three of the four quantities involved are known, they can be used to approximate the area of the circle—this in turn can be used to approximate 𝝅.\n",
    "\n",
    "##### <span style=\"color:green\"> To Do: </span>\n",
    "1. Your first task is to write the psuedo code for functinon <span style=\"color:green\"> **forpi(n)** </span> which will: \n",
    "    - keep track of number of darts thrown as the function run\n",
    "    - keep track of number of darts that have hit the circle\n",
    "    - **return** resulting estimate of pi\n",
    "\n",
    "example of how <span style=\"color:green\"> **forpi(n)** </span> might work:"
   ]
  },
  {
   "cell_type": "code",
   "execution_count": null,
   "metadata": {
    "vscode": {
     "languageId": "plaintext"
    }
   },
   "outputs": [],
   "source": [
    "In [1]: forpi(10)\n",
    "1 hits out of 1 throws so that pi is 4.0\n",
    "2 hits out of 2 throws so that pi is 4.0\n",
    "3 hits out of 3 throws so that pi is 4.0\n",
    "4 hits out of 4 throws so that pi is 4.0\n",
    "4 hits out of 5 throws so that pi is 3.2\n",
    "5 hits out of 6 throws so that pi is 3.33333333333\n",
    "6 hits out of 7 throws so that pi is 3.42857142857\n",
    "6 hits out of 8 throws so that pi is 3.0\n",
    "7 hits out of 9 throws so that pi is 3.11111111111\n",
    "8 hits out of 10 throws so that pi is 3.2\n",
    "\n",
    "Out[1]: 3.2"
   ]
  },
  {
   "cell_type": "code",
   "execution_count": null,
   "metadata": {
    "vscode": {
     "languageId": "plaintext"
    }
   },
   "outputs": [],
   "source": [
    "Write your psuedo code here in a bulleted or numbered format:\n",
    "\n"
   ]
  },
  {
   "cell_type": "markdown",
   "metadata": {},
   "source": [
    "2. Your second task is to write the psuedo code for functinon <span style=\"color:green\"> **whilepi(error)** </span> which will: \n",
    "    - throw darts at the dartboard until the *absolute difference* between the function's estimate of pi and the real value of pi is less than <span style=\"color:green\"> **error** </span>\n",
    "    - keep track of number of darts thrown as the function run\n",
    "    - keep track of number of darts that have hit the circle\n",
    "    - keep track of running pi value\n",
    "    - **return** total number of darts thrown to reach the requested accuracy\n",
    "\n",
    "example of how <span style=\"color:green\"> **whilepi(error)** </span> might work:"
   ]
  },
  {
   "cell_type": "code",
   "execution_count": null,
   "metadata": {
    "vscode": {
     "languageId": "plaintext"
    }
   },
   "outputs": [],
   "source": [
    "In [7]: whilepi(0.1)\n",
    "1 hits out of 1 throws so that pi is 4.0\n",
    "2 hits out of 2 throws so that pi is 4.0\n",
    "3 hits out of 3 throws so that pi is 4.0\n",
    "4 hits out of 4 throws so that pi is 4.0\n",
    "5 hits out of 5 throws so that pi is 4.0\n",
    "5 hits out of 6 throws so that pi is 3.33333333333\n",
    "6 hits out of 7 throws so that pi is 3.42857142857\n",
    "7 hits out of 8 throws so that pi is 3.5\n",
    "7 hits out of 9 throws so that pi is 3.11111111111\n",
    "\n",
    "Out[7]: 9\n",
    "\n",
    "In this example, it took 9 throws to reach the requested accuracy of 0.1"
   ]
  },
  {
   "cell_type": "code",
   "execution_count": null,
   "metadata": {
    "vscode": {
     "languageId": "plaintext"
    }
   },
   "outputs": [],
   "source": [
    "Write your pseudo code here in a bulleted or numbered format:\n",
    "\n"
   ]
  },
  {
   "cell_type": "markdown",
   "metadata": {},
   "source": [
    "3. Now that you have written out the pseudo code for <span style=\"color:green\"> **forpi(n)** </span> and <span style=\"color:green\"> **whilepi(error)** </span> use generative AI to help you write the code for both functions:\n",
    "+ hint: use math.pi to get the true pi value for whilepi(error)"
   ]
  },
  {
   "cell_type": "code",
   "execution_count": null,
   "metadata": {},
   "outputs": [],
   "source": [
    "# write your functions here!\n",
    "\n",
    "import random\n",
    "import math\n",
    "\n",
    "# here is a starting function to help you out\n",
    "# a function that throws one dart, returning true  (if it hits the circle), false (otherwise)\n",
    "#                       \n",
    "def dart():\n",
    "    \"\"\" Throws one dart between (-1,-1) and (1,1).\n",
    "        Returns True if it lands in the unit circle; otherwise, False.\n",
    "    \"\"\"\n",
    "    x = random.uniform(-1, 1)\n",
    "    y = random.uniform(-1, 1)\n",
    "    \n",
    "    if x**2 + y**2 < 1:\n",
    "        return True        # HIT (within the unit circle)\n",
    "    else:\n",
    "        return False       # miss (landed in one of the corners)\n",
    "\n",
    "def forpi(N):\n",
    "    \"\"\" remember your docstrings!\n",
    "    \"\"\"\n",
    "    \n",
    "def whilepi(error):\n",
    "    \"\"\" remember your docstrings!\n",
    "    \"\"\"\n",
    "\n",
    "\n",
    "# now rewrite each function to not print anything, but still return their respective values\n",
    "\n",
    "def forpi_np(N):\n",
    "    \"\"\" remember your docstrings!\n",
    "    \"\"\"\n",
    "\n",
    "def whilepi_np(error):\n",
    "    \"\"\" remember your docstrings!\n",
    "    \"\"\"\n",
    "\n",
    "\n",
    "# do your analysis with List Comprehensions and include your triple-quoted strings here\n",
    "\n",
    "\n",
    "\n",
    "# finally, answer these two bigger picture questions:\n",
    "\"\"\"\n",
    "1. Does forpi or whilepi estimate 𝝅 more efficiently? Why?\n",
    "\n",
    "\n",
    "2. Does forpi or whilepi estimate 𝝅 more accurately? Why?\n",
    "\n",
    "\"\"\"\n"
   ]
  },
  {
   "cell_type": "markdown",
   "metadata": {},
   "source": [
    "### <span style=\"color:violet\"> Analysis with List Comprehensions </span>\n",
    "\n",
    "Then, using the List Comprehension techniques we tried in class—and in hw6pr5 —analyze the behavior of our two pi-estimating functions using the code cell above\n",
    "+ Perhaps use <span style=\"color:green\"> range(1000) </span> so that you're running 1,000 trials at a time...\n",
    "+ Other values are welcome (It's surprisingly easy to give your machine much more work than it can handle... perhaps if it's been frustrating you lately?)\n",
    "\n",
    "Include a triple-quoted string above that addresses these questions:\n",
    "+ On average, how close to 𝝅 does <span style=\"color:green\"> forpi_np(N) </span> get when <span style=\"color:green\"> N = 1, 10, 100, 1000  </span> ?\n",
    "+ On average, how many throws are needed for <span style=\"color:green\">  whilepi_np(error) </span> to get within <span style=\"color:green\"> e = 1, .1, .01, 0.001 </span>\n",
    "\n",
    "The goal here is to see trends, rather than eliciting an exact relationship. Be sure *not* to include any one-million-element lists, but do include:\n",
    "+ A paste of a few elements from the list comprehensions you created, for example <span style =\"color:green\"> LC[0:8] </span>\n",
    "+ Averages of those LCs are welcome—in fact, these averages are the answers to the questions above..."
   ]
  },
  {
   "cell_type": "markdown",
   "metadata": {},
   "source": [
    "# <span style=\"color:violet\"> Great job! Now move onto hw8pr3b.py: Animating Pi from Pie </span>\n",
    "##### Here are the instructions for hw8pr3b or go to the cs5 website:\n",
    "For this part of the assignment, you will be using a python file instead of jupyter notebook. Download hw8pr3.py to get started! You <span style=\"color:red\"> **are allowed to** </span> use LLM for hw8prb.py\n",
    "+ Make sure pip or pip3 is installed and running in your computer (this will ensure that the imports work, especially matplotlib)!\n",
    "+ Please read through the starter code to understand how <span style=\"color:green\"> matplotlib.pyplot </span> and <span style=\"color:green\"> matplotlib.animation </span> create a live animation of pi from pie!\n",
    "\n",
    "Your tasks:\n",
    "1. After understanding the starter code try changing the colors of the darts on <span style=\"color:green\"> animate_forpi(n) </span>, play around wtih you graph and the design!\n",
    "2. Update graph three on <span style=\"color:green\"> animate_forpi(n) </span> to plot the absolute or relative error over time\n",
    "3. Add a label to your graph (you choose where to add it!) that keeps track of the running pi value and number of darts thrown\n",
    "    + go to this [link](https://matplotlib.org/stable/gallery/index.html) and search different styles of creating text labels, or to learn more about what matplotlib can do\n",
    "    + Here is an example of what the final product will look like: ![3graphs](3graphs.png)\n",
    "4. Now that you have some practice with matplotlib, it is your turn to write <span style=\"color:green\"> animate_whilepi(error) </span> :), please follow the same format as <span style=\"color:green\"> animate_forpi(n) </span> to help with organization and readability\n",
    "\n"
   ]
  },
  {
   "cell_type": "markdown",
   "metadata": {},
   "source": [
    "# <span style = \"color:violet\"> Nice :) now create your own Monte Carlo Simulation on hw8pr3mc.py </span>\n",
    "##### Here are the instructions for hw8pr3c or go to the cs5 website:\n",
    "For this part of the assignment, you will be creating your own original simulation (it is highly encouraged to work with someone else and peer program!) in your own python file.\n",
    "+ Please name your file <span style=\"color:green\"> hw8pr3mc.py </span> and add the name and date to the beginning of the file, following the same format as previous homework files\n",
    "+ You <span style=\"color:red\"> **are allowed to** </span> use LLM for hw8prc.py\n",
    "+ you will most likely be using (but are not limited to) the following imports: \n",
    "    + import random\n",
    "    + import math\n",
    "    + import matplotlib.pyplot as plt\n",
    "    + from matplotlib.animation import FuncAnimation\n",
    "\n",
    "+ This assignment is very similar mc.py, you will be using the same idea of Monte Carlo\n",
    "    + Monte Carlo techniuqes applly many random trials in order to build intuition and insight about a phenomenon\n",
    "    + You want to individualize and personalize your Monte Carlo simulation\n",
    "        + some starting points: card game simulation, integral approximation, finding minimum and maximum of a function of your choice, there are unlimited options!\n",
    "        + animate your simulation!\n",
    "            + see [link](https://matplotlib.org/stable/gallery/index.html) to explore different ways you can animate your simulation\n",
    "+ This assignment is very open ended! Feel free to explore what Monte Carlo is and how it is used in different subjects/areas"
   ]
  }
 ],
 "metadata": {
  "language_info": {
   "name": "python"
  },
  "orig_nbformat": 4
 },
 "nbformat": 4,
 "nbformat_minor": 2
}
